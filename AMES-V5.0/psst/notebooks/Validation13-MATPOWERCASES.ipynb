{
 "cells": [
  {
   "cell_type": "code",
   "execution_count": 1,
   "metadata": {
    "collapsed": true
   },
   "outputs": [],
   "source": [
    "import os"
   ]
  },
  {
   "cell_type": "code",
   "execution_count": 15,
   "metadata": {
    "collapsed": true,
    "deletable": true,
    "editable": true
   },
   "outputs": [],
   "source": [
    "from psst.case import read_matpower\n",
    "\n",
    "import pandas as pd\n",
    "\n",
    "from psst.model import build_model\n",
    "\n",
    "mpc_files = []\n",
    "\n",
    "root= './../../../matpower/'\n",
    "\n",
    "for mpc in os.listdir(root):\n",
    "    if mpc.startswith('case') and mpc.endswith('.m'):\n",
    "        mpc_files.append(os.path.abspath(os.path.join(root, mpc)))\n",
    "\n",
    "import getpass\n",
    "        \n",
    "USER = getpass.getuser()"
   ]
  },
  {
   "cell_type": "code",
   "execution_count": 16,
   "metadata": {
    "collapsed": false
   },
   "outputs": [],
   "source": [
    "mpc_files = [ '/Users/{}/Documents/GitRepos/matpower/case5.m'.format(USER),\n",
    " '/Users/{}/Documents/GitRepos/matpower/case30.m'.format(USER),\n",
    " '/Users/{}/Documents/GitRepos/matpower/case6ww.m'.format(USER),\n",
    " '/Users/{}/Documents/GitRepos/matpower/case9.m'.format(USER),\n",
    " '/Users/{}/Documents/GitRepos/matpower/case9target.m'.format(USER),\n",
    "]\n"
   ]
  },
  {
   "cell_type": "code",
   "execution_count": 17,
   "metadata": {
    "collapsed": false
   },
   "outputs": [],
   "source": [
    "\n",
    "mpc_case = dict()\n",
    "mpc_results = dict()\n",
    "\n",
    "for mpc in mpc_files:\n",
    "\n",
    "    try:\n",
    "        case = read_matpower(mpc)\n",
    "\n",
    "        model = build_model(case)\n",
    "\n",
    "        model.solve(solver='xpress', verbose=False)\n",
    "\n",
    "        s1 = (model.results.angles / 2 / pd.np.pi * 360).T[0]\n",
    "\n",
    "        case_name = mpc.split('/')[-1].replace('.m', '')\n",
    "        mpc_case[case_name] = [v for v in model.results.power_generated.values[0]]\n",
    "        mpc_results[case_name] = dict()\n",
    "        mpc_results[case_name]['line_power'] = model.results.line_power.values\n",
    "        mpc_results[case_name]['angles'] = model.results.angles.values * 360 / 2 / pd.np.pi\n",
    "\n",
    "        \n",
    "    except Exception as e:\n",
    "        print('Unable to solve {}\\n{}'.format(mpc, e))"
   ]
  },
  {
   "cell_type": "code",
   "execution_count": 18,
   "metadata": {
    "collapsed": false
   },
   "outputs": [
    {
     "name": "stdout",
     "output_type": "stream",
     "text": [
      "case6ww\n",
      "case9\n",
      "case30\n",
      "case5\n",
      "case9target\n"
     ]
    }
   ],
   "source": [
    "for k in mpc_case:\n",
    "    print(k)\n",
    "    mpc_case"
   ]
  },
  {
   "cell_type": "code",
   "execution_count": 19,
   "metadata": {
    "collapsed": true
   },
   "outputs": [],
   "source": [
    "from scipy.io import loadmat"
   ]
  },
  {
   "cell_type": "code",
   "execution_count": 20,
   "metadata": {
    "collapsed": false
   },
   "outputs": [],
   "source": [
    "matpower = loadmat('/Users/{}/Documents/GitRepos/matpower/results.mat'.format(USER))"
   ]
  },
  {
   "cell_type": "code",
   "execution_count": 21,
   "metadata": {
    "collapsed": true
   },
   "outputs": [],
   "source": [
    "def rmse(predictions, targets):\n",
    "    predictions = pd.DataFrame(predictions).T[0]\n",
    "    targets = pd.DataFrame(targets)[0]\n",
    "    return np.sqrt(((predictions - targets) ** 2).mean())"
   ]
  },
  {
   "cell_type": "code",
   "execution_count": 22,
   "metadata": {
    "collapsed": true
   },
   "outputs": [],
   "source": [
    "import numpy as np"
   ]
  },
  {
   "cell_type": "code",
   "execution_count": 23,
   "metadata": {
    "collapsed": false
   },
   "outputs": [
    {
     "name": "stdout",
     "output_type": "stream",
     "text": [
      "('case30', 4.0528596704901583)\n",
      "('case9', 6.8282476828978767e-15)\n",
      "('case6ww', 1.8831566595121686e-15)\n",
      "('case5', 1.7406087768693023e-15)\n",
      "('case9target', 0.6548200235238163)\n"
     ]
    }
   ],
   "source": [
    "print('case30', rmse(mpc_results['case30']['angles'], matpower['a30']))\n",
    "print('case9', rmse(mpc_results['case9']['angles'], matpower['a9']))\n",
    "print('case6ww', rmse(mpc_results['case6ww']['angles'], matpower['a6ww']))\n",
    "print('case5', rmse(mpc_results['case5']['angles'], matpower['a5']))\n",
    "print('case9target', rmse(mpc_results['case9target']['angles'], matpower['a9target']))\n"
   ]
  },
  {
   "cell_type": "code",
   "execution_count": 24,
   "metadata": {
    "collapsed": false
   },
   "outputs": [
    {
     "name": "stdout",
     "output_type": "stream",
     "text": [
      "('case30', 5.7540935602070547e-14)\n",
      "('case9', 2.5646338774393149e-14)\n",
      "('case6ww', 2.3228879851839006e-14)\n",
      "('case5', 2.4123597344804154e-13)\n",
      "('case9target', 5.4935306698989068)\n"
     ]
    }
   ],
   "source": [
    "print('case30', rmse(mpc_results['case30']['line_power'], matpower['lp30']))\n",
    "print('case9', rmse(mpc_results['case9']['line_power'], matpower['lp9']))\n",
    "print('case6ww', rmse(mpc_results['case6ww']['line_power'], matpower['lp6ww']))\n",
    "print('case5', rmse(mpc_results['case5']['line_power'], matpower['lp5']))\n",
    "print('case9target', rmse(mpc_results['case9target']['line_power'], matpower['lp9target']))\n"
   ]
  },
  {
   "cell_type": "code",
   "execution_count": null,
   "metadata": {
    "collapsed": true
   },
   "outputs": [],
   "source": []
  },
  {
   "cell_type": "code",
   "execution_count": null,
   "metadata": {
    "collapsed": true
   },
   "outputs": [],
   "source": []
  },
  {
   "cell_type": "code",
   "execution_count": null,
   "metadata": {
    "collapsed": true
   },
   "outputs": [],
   "source": []
  }
 ],
 "metadata": {
  "kernelspec": {
   "display_name": "Python 2",
   "language": "python",
   "name": "python2"
  },
  "language_info": {
   "codemirror_mode": {
    "name": "ipython",
    "version": 2
   },
   "file_extension": ".py",
   "mimetype": "text/x-python",
   "name": "python",
   "nbconvert_exporter": "python",
   "pygments_lexer": "ipython2",
   "version": "2.7.12"
  }
 },
 "nbformat": 4,
 "nbformat_minor": 2
}
