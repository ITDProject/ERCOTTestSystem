{
 "cells": [
  {
   "cell_type": "markdown",
   "metadata": {
    "deletable": true,
    "editable": true
   },
   "source": [
    "# Validation"
   ]
  },
  {
   "cell_type": "code",
   "execution_count": 1,
   "metadata": {
    "collapsed": true,
    "deletable": true,
    "editable": true
   },
   "outputs": [],
   "source": [
    "%matplotlib inline"
   ]
  },
  {
   "cell_type": "code",
   "execution_count": 2,
   "metadata": {
    "collapsed": true,
    "deletable": true,
    "editable": true
   },
   "outputs": [],
   "source": [
    "import psst"
   ]
  },
  {
   "cell_type": "code",
   "execution_count": 3,
   "metadata": {
    "collapsed": true,
    "deletable": true,
    "editable": true
   },
   "outputs": [],
   "source": [
    "from psst.case import read_matpower\n",
    "from psst.network import create_network\n",
    "import pandas as pd"
   ]
  },
  {
   "cell_type": "markdown",
   "metadata": {
    "deletable": true,
    "editable": true
   },
   "source": [
    "### Validation of case 1"
   ]
  },
  {
   "cell_type": "code",
   "execution_count": 4,
   "metadata": {
    "collapsed": false,
    "deletable": true,
    "editable": true
   },
   "outputs": [],
   "source": [
    "case = read_matpower('./cases/case7.m')"
   ]
  },
  {
   "cell_type": "code",
   "execution_count": 5,
   "metadata": {
    "collapsed": false,
    "deletable": true,
    "editable": true
   },
   "outputs": [],
   "source": [
    "case.load = pd.read_csv('./cases/case7.csv', index_col=0)"
   ]
  },
  {
   "cell_type": "code",
   "execution_count": 6,
   "metadata": {
    "collapsed": false,
    "deletable": true,
    "editable": true
   },
   "outputs": [
    {
     "data": {
      "image/png": "[encoded data removed]",
      "text/plain": [
       "<matplotlib.figure.Figure at 0x10e960790>"
      ]
     },
     "metadata": {},
     "output_type": "display_data"
    }
   ],
   "source": [
    "network = create_network(case, prog='neato')\n",
    "network.draw()"
   ]
  },
  {
   "cell_type": "code",
   "execution_count": 7,
   "metadata": {
    "collapsed": false,
    "deletable": true,
    "editable": true
   },
   "outputs": [
    {
     "data": {
      "text/plain": [
       "<psst.case.PSSTCase(name=casematpower, Generators=2, Buses=2, Branches=1)>"
      ]
     },
     "execution_count": 7,
     "metadata": {},
     "output_type": "execute_result"
    }
   ],
   "source": [
    "case"
   ]
  },
  {
   "cell_type": "code",
   "execution_count": 8,
   "metadata": {
    "collapsed": false,
    "deletable": true,
    "editable": true
   },
   "outputs": [
    {
     "data": {
      "text/html": [
       "<div>\n",
       "<table border=\"1\" class=\"dataframe\">\n",
       "  <thead>\n",
       "    <tr style=\"text-align: right;\">\n",
       "      <th></th>\n",
       "      <th>TYPE</th>\n",
       "      <th>PD</th>\n",
       "      <th>QD</th>\n",
       "      <th>GS</th>\n",
       "      <th>BS</th>\n",
       "      <th>AREA</th>\n",
       "      <th>VM</th>\n",
       "      <th>VA</th>\n",
       "      <th>BASEKV</th>\n",
       "      <th>ZONE</th>\n",
       "      <th>VMAX</th>\n",
       "      <th>VMIN</th>\n",
       "    </tr>\n",
       "  </thead>\n",
       "  <tbody>\n",
       "    <tr>\n",
       "      <th>Bus1</th>\n",
       "      <td>3</td>\n",
       "      <td>0</td>\n",
       "      <td>131.47</td>\n",
       "      <td>0</td>\n",
       "      <td>0</td>\n",
       "      <td>1</td>\n",
       "      <td>1</td>\n",
       "      <td>0</td>\n",
       "      <td>230</td>\n",
       "      <td>1</td>\n",
       "      <td>1.1</td>\n",
       "      <td>0.9</td>\n",
       "    </tr>\n",
       "    <tr>\n",
       "      <th>Bus2</th>\n",
       "      <td>2</td>\n",
       "      <td>100</td>\n",
       "      <td>0.00</td>\n",
       "      <td>0</td>\n",
       "      <td>0</td>\n",
       "      <td>1</td>\n",
       "      <td>1</td>\n",
       "      <td>0</td>\n",
       "      <td>230</td>\n",
       "      <td>1</td>\n",
       "      <td>1.1</td>\n",
       "      <td>0.9</td>\n",
       "    </tr>\n",
       "  </tbody>\n",
       "</table>\n",
       "</div>"
      ],
      "text/plain": [
       "      TYPE   PD      QD  GS  BS  AREA  VM  VA  BASEKV  ZONE  VMAX  VMIN\n",
       "Bus1     3    0  131.47   0   0     1   1   0     230     1   1.1   0.9\n",
       "Bus2     2  100    0.00   0   0     1   1   0     230     1   1.1   0.9"
      ]
     },
     "execution_count": 8,
     "metadata": {},
     "output_type": "execute_result"
    }
   ],
   "source": [
    "case.bus"
   ]
  },
  {
   "cell_type": "code",
   "execution_count": 9,
   "metadata": {
    "collapsed": false,
    "deletable": true,
    "editable": true
   },
   "outputs": [
    {
     "data": {
      "text/html": [
       "<div>\n",
       "<table border=\"1\" class=\"dataframe\">\n",
       "  <thead>\n",
       "    <tr style=\"text-align: right;\">\n",
       "      <th></th>\n",
       "      <th>F_BUS</th>\n",
       "      <th>T_BUS</th>\n",
       "      <th>BR_R</th>\n",
       "      <th>BR_X</th>\n",
       "      <th>BR_B</th>\n",
       "      <th>RATE_A</th>\n",
       "      <th>RATE_B</th>\n",
       "      <th>RATE_C</th>\n",
       "      <th>TAP</th>\n",
       "      <th>SHIFT</th>\n",
       "      <th>BR_STATUS</th>\n",
       "      <th>ANGMIN</th>\n",
       "      <th>ANGMAX</th>\n",
       "    </tr>\n",
       "  </thead>\n",
       "  <tbody>\n",
       "    <tr>\n",
       "      <th>0</th>\n",
       "      <td>Bus1</td>\n",
       "      <td>Bus2</td>\n",
       "      <td>0.00281</td>\n",
       "      <td>0.0281</td>\n",
       "      <td>0.00712</td>\n",
       "      <td>800</td>\n",
       "      <td>800</td>\n",
       "      <td>800</td>\n",
       "      <td>0</td>\n",
       "      <td>0</td>\n",
       "      <td>1</td>\n",
       "      <td>-360</td>\n",
       "      <td>360</td>\n",
       "    </tr>\n",
       "  </tbody>\n",
       "</table>\n",
       "</div>"
      ],
      "text/plain": [
       "  F_BUS T_BUS     BR_R    BR_X     BR_B  RATE_A  RATE_B  RATE_C  TAP  SHIFT  \\\n",
       "0  Bus1  Bus2  0.00281  0.0281  0.00712     800     800     800    0      0   \n",
       "\n",
       "   BR_STATUS  ANGMIN  ANGMAX  \n",
       "0          1    -360     360  "
      ]
     },
     "execution_count": 9,
     "metadata": {},
     "output_type": "execute_result"
    }
   ],
   "source": [
    "case.branch"
   ]
  },
  {
   "cell_type": "code",
   "execution_count": 32,
   "metadata": {
    "collapsed": true,
    "deletable": true,
    "editable": true
   },
   "outputs": [],
   "source": [
    "case.gen.loc['GenCo1', 'MINIMUM_UP_TIME'] = 5"
   ]
  },
  {
   "cell_type": "code",
   "execution_count": 33,
   "metadata": {
    "collapsed": false,
    "deletable": true,
    "editable": true
   },
   "outputs": [
    {
     "data": {
      "text/html": [
       "<div>\n",
       "<table border=\"1\" class=\"dataframe\">\n",
       "  <thead>\n",
       "    <tr style=\"text-align: right;\">\n",
       "      <th></th>\n",
       "      <th>GEN_BUS</th>\n",
       "      <th>PG</th>\n",
       "      <th>QG</th>\n",
       "      <th>QMAX</th>\n",
       "      <th>QMIN</th>\n",
       "      <th>VG</th>\n",
       "      <th>MBASE</th>\n",
       "      <th>GEN_STATUS</th>\n",
       "      <th>PMAX</th>\n",
       "      <th>PMIN</th>\n",
       "      <th>PC1</th>\n",
       "      <th>PC2</th>\n",
       "      <th>QC1MIN</th>\n",
       "      <th>QC1MAX</th>\n",
       "      <th>QC2MIN</th>\n",
       "      <th>QC2MAX</th>\n",
       "      <th>RAMP_AGC</th>\n",
       "      <th>RAMP_10</th>\n",
       "      <th>RAMP_30</th>\n",
       "      <th>RAMP_Q</th>\n",
       "      <th>APF</th>\n",
       "      <th>STARTUP_RAMP</th>\n",
       "      <th>SHUTDOWN_RAMP</th>\n",
       "      <th>MINIMUM_UP_TIME</th>\n",
       "      <th>MINIMUM_DOWN_TIME</th>\n",
       "    </tr>\n",
       "  </thead>\n",
       "  <tbody>\n",
       "    <tr>\n",
       "      <th>GenCo0</th>\n",
       "      <td>Bus1</td>\n",
       "      <td>200</td>\n",
       "      <td>0</td>\n",
       "      <td>30</td>\n",
       "      <td>-30</td>\n",
       "      <td>1</td>\n",
       "      <td>100</td>\n",
       "      <td>1</td>\n",
       "      <td>200</td>\n",
       "      <td>0</td>\n",
       "      <td>0</td>\n",
       "      <td>0</td>\n",
       "      <td>0</td>\n",
       "      <td>0</td>\n",
       "      <td>0</td>\n",
       "      <td>0</td>\n",
       "      <td>0</td>\n",
       "      <td>200</td>\n",
       "      <td>0</td>\n",
       "      <td>0</td>\n",
       "      <td>0</td>\n",
       "      <td>200</td>\n",
       "      <td>200</td>\n",
       "      <td>0</td>\n",
       "      <td>0</td>\n",
       "    </tr>\n",
       "    <tr>\n",
       "      <th>GenCo1</th>\n",
       "      <td>Bus2</td>\n",
       "      <td>500</td>\n",
       "      <td>0</td>\n",
       "      <td>30</td>\n",
       "      <td>-30</td>\n",
       "      <td>1</td>\n",
       "      <td>100</td>\n",
       "      <td>1</td>\n",
       "      <td>500</td>\n",
       "      <td>0</td>\n",
       "      <td>0</td>\n",
       "      <td>0</td>\n",
       "      <td>0</td>\n",
       "      <td>0</td>\n",
       "      <td>0</td>\n",
       "      <td>0</td>\n",
       "      <td>0</td>\n",
       "      <td>500</td>\n",
       "      <td>0</td>\n",
       "      <td>0</td>\n",
       "      <td>0</td>\n",
       "      <td>500</td>\n",
       "      <td>500</td>\n",
       "      <td>5</td>\n",
       "      <td>0</td>\n",
       "    </tr>\n",
       "  </tbody>\n",
       "</table>\n",
       "</div>"
      ],
      "text/plain": [
       "       GEN_BUS   PG  QG  QMAX  QMIN  VG  MBASE  GEN_STATUS  PMAX  PMIN  PC1  \\\n",
       "GenCo0    Bus1  200   0    30   -30   1    100           1   200     0    0   \n",
       "GenCo1    Bus2  500   0    30   -30   1    100           1   500     0    0   \n",
       "\n",
       "        PC2  QC1MIN  QC1MAX  QC2MIN  QC2MAX  RAMP_AGC  RAMP_10  RAMP_30  \\\n",
       "GenCo0    0       0       0       0       0         0      200        0   \n",
       "GenCo1    0       0       0       0       0         0      500        0   \n",
       "\n",
       "        RAMP_Q  APF  STARTUP_RAMP  SHUTDOWN_RAMP  MINIMUM_UP_TIME  \\\n",
       "GenCo0       0    0           200            200                0   \n",
       "GenCo1       0    0           500            500                5   \n",
       "\n",
       "        MINIMUM_DOWN_TIME  \n",
       "GenCo0                  0  \n",
       "GenCo1                  0  "
      ]
     },
     "execution_count": 33,
     "metadata": {},
     "output_type": "execute_result"
    }
   ],
   "source": [
    "case.gen"
   ]
  },
  {
   "cell_type": "code",
   "execution_count": 34,
   "metadata": {
    "collapsed": false,
    "deletable": true,
    "editable": true
   },
   "outputs": [
    {
     "data": {
      "text/html": [
       "<div>\n",
       "<table border=\"1\" class=\"dataframe\">\n",
       "  <thead>\n",
       "    <tr style=\"text-align: right;\">\n",
       "      <th></th>\n",
       "      <th>MODEL</th>\n",
       "      <th>STARTUP</th>\n",
       "      <th>SHUTDOWN</th>\n",
       "      <th>NCOST</th>\n",
       "      <th>COST_1</th>\n",
       "      <th>COST_0</th>\n",
       "    </tr>\n",
       "  </thead>\n",
       "  <tbody>\n",
       "    <tr>\n",
       "      <th>GenCo0</th>\n",
       "      <td>1</td>\n",
       "      <td>0</td>\n",
       "      <td>0</td>\n",
       "      <td>2</td>\n",
       "      <td>10</td>\n",
       "      <td>0</td>\n",
       "    </tr>\n",
       "    <tr>\n",
       "      <th>GenCo1</th>\n",
       "      <td>1</td>\n",
       "      <td>5000</td>\n",
       "      <td>1000</td>\n",
       "      <td>2</td>\n",
       "      <td>14</td>\n",
       "      <td>2000</td>\n",
       "    </tr>\n",
       "  </tbody>\n",
       "</table>\n",
       "</div>"
      ],
      "text/plain": [
       "        MODEL  STARTUP  SHUTDOWN  NCOST  COST_1  COST_0\n",
       "GenCo0      1        0         0      2      10       0\n",
       "GenCo1      1     5000      1000      2      14    2000"
      ]
     },
     "execution_count": 34,
     "metadata": {},
     "output_type": "execute_result"
    }
   ],
   "source": [
    "case.gencost"
   ]
  },
  {
   "cell_type": "code",
   "execution_count": 35,
   "metadata": {
    "collapsed": true,
    "deletable": true,
    "editable": true
   },
   "outputs": [],
   "source": [
    "import matplotlib.pyplot as plt"
   ]
  },
  {
   "cell_type": "code",
   "execution_count": 36,
   "metadata": {
    "collapsed": false,
    "deletable": true,
    "editable": true
   },
   "outputs": [
    {
     "data": {
      "image/png": "[encoded data removed]",
      "text/plain": [
       "<matplotlib.figure.Figure at 0x111384a10>"
      ]
     },
     "metadata": {},
     "output_type": "display_data"
    }
   ],
   "source": [
    "fig, axs = plt.subplots(1, 1, figsize=(8, 5))\n",
    "ax = axs\n",
    "case.load['Bus2'].plot.bar(ax=ax)\n",
    "ax.set_ylim(0, 500);"
   ]
  },
  {
   "cell_type": "code",
   "execution_count": 37,
   "metadata": {
    "collapsed": true,
    "deletable": true,
    "editable": true
   },
   "outputs": [],
   "source": [
    "from psst.model import build_model"
   ]
  },
  {
   "cell_type": "code",
   "execution_count": 38,
   "metadata": {
    "collapsed": false,
    "deletable": true,
    "editable": true
   },
   "outputs": [],
   "source": [
    "model = build_model(case)"
   ]
  },
  {
   "cell_type": "code",
   "execution_count": 39,
   "metadata": {
    "collapsed": false,
    "deletable": true,
    "editable": true
   },
   "outputs": [
    {
     "data": {
      "text/plain": [
       "<psst.model.PSSTModel(status=None)>"
      ]
     },
     "execution_count": 39,
     "metadata": {},
     "output_type": "execute_result"
    }
   ],
   "source": [
    "model"
   ]
  },
  {
   "cell_type": "code",
   "execution_count": 40,
   "metadata": {
    "collapsed": false,
    "deletable": true,
    "editable": true
   },
   "outputs": [
    {
     "name": "stdout",
     "output_type": "stream",
     "text": [
      "Welcome to the CBC MILP Solver \n",
      "Version: 2.9.6 \n",
      "Build Date: May 27 2016 \n",
      "\n",
      "command line - /usr/local/bin/cbc -mipgap 0.01 -printingOptions all -import /var/folders/wk/lcf0vgd90bx0vq1873tn04knk_djr3/T/tmpuYJYwx.pyomo.lp -import -stat=1 -solve -solu /var/folders/wk/lcf0vgd90bx0vq1873tn04knk_djr3/T/tmpuYJYwx.pyomo.soln (default strategy 1)\n",
      "No match for mipgap - ? for list of commands\n",
      "No match for 0.01 - ? for list of commands\n",
      "Option for printingOptions changed from normal to all\n",
      "Current default (if $ as parameter) for import is /var/folders/wk/lcf0vgd90bx0vq1873tn04knk_djr3/T/tmpuYJYwx.pyomo.lp\n",
      "Presolve 284 (-638) rows, 383 (-370) columns and 1027 (-1387) elements\n",
      "Statistics for presolved model\n",
      "Original problem has 48 integers (48 of which binary)\n",
      "Presolved problem has 24 integers (24 of which binary)\n",
      "==== 190 zero objective 3 different\n",
      "190 variables have objective of 0\n",
      "49 variables have objective of 1\n",
      "144 variables have objective of 1e+06\n",
      "==== absolute objective values 3 different\n",
      "190 variables have objective of 0\n",
      "49 variables have objective of 1\n",
      "144 variables have objective of 1e+06\n",
      "==== for integers 24 zero objective 1 different\n",
      "24 variables have objective of 0\n",
      "==== for integers absolute objective values 1 different\n",
      "24 variables have objective of 0\n",
      "===== end objective counts\n",
      "\n",
      "\n",
      "Problem has 284 rows, 383 columns (193 with objective) and 1027 elements\n",
      "There are 193 singletons with objective \n",
      "Column breakdown:\n",
      "287 of type 0.0->inf, 48 of type 0.0->up, 0 of type lo->inf, \n",
      "24 of type lo->up, 0 of type free, 0 of type fixed, \n",
      "0 of type -inf->0.0, 0 of type -inf->up, 24 of type 0.0->1.0 \n",
      "Row breakdown:\n",
      "24 of type E 0.0, 0 of type E 1.0, 0 of type E -1.0, \n",
      "48 of type E other, 2 of type G 0.0, 0 of type G 1.0, \n",
      "0 of type G other, 139 of type L 0.0, 0 of type L 1.0, \n",
      "71 of type L other, 0 of type Range 0.0->1.0, 0 of type Range other, \n",
      "0 of type Free \n",
      "Continuous objective value is 47068 - 0.00 seconds\n",
      "Cgl0003I 0 fixed, 0 tightened bounds, 23 strengthened rows, 0 substitutions\n",
      "Cgl0004I processed model has 260 rows, 382 columns (24 integer (24 of which binary)) and 886 elements\n",
      "Cbc0038I Initial state - 4 integers unsatisfied sum - 1.15\n",
      "Cbc0038I Pass   1: suminf.    0.00000 (0) obj. 6.00037e+08 iterations 19\n",
      "Cbc0038I Solution found of 6.00037e+08\n",
      "Cbc0038I Relaxing continuous gives 6.00037e+08\n",
      "Cbc0038I Before mini branch and bound, 20 integers at bound fixed and 263 continuous\n",
      "Cbc0038I Full problem 260 rows 382 columns, reduced to 17 rows 13 columns\n",
      "Cbc0038I Mini branch and bound did not improve solution (0.02 seconds)\n",
      "Cbc0038I Round again with cutoff of 5.40038e+08\n",
      "Cbc0038I Pass   2: suminf.    0.08727 (4) obj. 5.40038e+08 iterations 19\n",
      "Cbc0038I Pass   3: suminf.    0.25000 (1) obj. 5.40038e+08 iterations 13\n",
      "Cbc0038I Pass   4: suminf.    0.50000 (1) obj. 5.40038e+08 iterations 5\n",
      "Cbc0038I Pass   5: suminf.    0.35417 (3) obj. 5.40038e+08 iterations 38\n",
      "Cbc0038I Pass   6: suminf.    0.25000 (1) obj. 5.40038e+08 iterations 11\n",
      "Cbc0038I Pass   7: suminf.    0.25000 (1) obj. 5.40038e+08 iterations 3\n",
      "Cbc0038I Pass   8: suminf.    1.64258 (5) obj. 5.40038e+08 iterations 23\n",
      "Cbc0038I Pass   9: suminf.    0.62500 (2) obj. 5.40038e+08 iterations 17\n",
      "Cbc0038I Pass  10: suminf.    0.00000 (0) obj. 5.40038e+08 iterations 5\n",
      "Cbc0038I Solution found of 5.40038e+08\n",
      "Cbc0038I Relaxing continuous gives 84700\n",
      "Cbc0038I Before mini branch and bound, 5 integers at bound fixed and 247 continuous\n",
      "Cbc0038I Full problem 260 rows 382 columns, reduced to 62 rows 42 columns\n",
      "Cbc0038I Mini branch and bound improved solution from 84700 to 58700 (0.03 seconds)\n",
      "Cbc0038I Round again with cutoff of 56440\n",
      "Cbc0038I Pass  11: suminf.    1.14997 (4) obj. 56440 iterations 7\n",
      "Cbc0038I Pass  12: suminf.    0.25000 (1) obj. 56440 iterations 19\n",
      "Cbc0038I Pass  13: suminf.    0.50000 (1) obj. 56440 iterations 5\n",
      "Cbc0038I Pass  14: suminf.    1.58625 (5) obj. 56440 iterations 23\n",
      "Cbc0038I Pass  15: suminf.    0.40556 (5) obj. 56440 iterations 13\n",
      "Cbc0038I Pass  16: suminf.    1.24998 (4) obj. 56440 iterations 30\n",
      "Cbc0038I Pass  17: suminf.    1.14997 (4) obj. 56440 iterations 5\n",
      "Cbc0038I Pass  18: suminf.    0.25000 (1) obj. 56440 iterations 18\n",
      "Cbc0038I Pass  19: suminf.    0.50000 (1) obj. 56440 iterations 2\n",
      "Cbc0038I Pass  20: suminf.    0.97800 (5) obj. 56440 iterations 23\n",
      "Cbc0038I Pass  21: suminf.    0.65000 (3) obj. 56440 iterations 16\n",
      "Cbc0038I Pass  22: suminf.    0.95667 (3) obj. 56440 iterations 13\n",
      "Cbc0038I Pass  23: suminf.    1.29364 (5) obj. 56440 iterations 4\n",
      "Cbc0038I Pass  24: suminf.    0.95667 (3) obj. 56440 iterations 6\n",
      "Cbc0038I Pass  25: suminf.    1.66229 (6) obj. 56440 iterations 16\n",
      "Cbc0038I Pass  26: suminf.    1.58326 (6) obj. 56440 iterations 22\n",
      "Cbc0038I Pass  27: suminf.    1.15000 (4) obj. 56440 iterations 23\n",
      "Cbc0038I Pass  28: suminf.    0.28000 (2) obj. 56440 iterations 14\n",
      "Cbc0038I Pass  29: suminf.    0.25000 (1) obj. 56440 iterations 5\n",
      "Cbc0038I Pass  30: suminf.    0.50000 (1) obj. 56440 iterations 3\n",
      "Cbc0038I Pass  31: suminf.    0.28000 (3) obj. 56440 iterations 27\n",
      "Cbc0038I Pass  32: suminf.    1.42000 (6) obj. 56440 iterations 68\n",
      "Cbc0038I Pass  33: suminf.    1.42000 (6) obj. 56440 iterations 8\n",
      "Cbc0038I Pass  34: suminf.    1.14997 (4) obj. 56440 iterations 28\n",
      "Cbc0038I Pass  35: suminf.    1.86249 (6) obj. 56440 iterations 14\n",
      "Cbc0038I Pass  36: suminf.    1.86249 (6) obj. 56440 iterations 4\n",
      "Cbc0038I Pass  37: suminf.    0.29000 (3) obj. 56440 iterations 28\n",
      "Cbc0038I Pass  38: suminf.    0.25000 (1) obj. 56440 iterations 14\n",
      "Cbc0038I Pass  39: suminf.    0.50000 (1) obj. 56440 iterations 5\n",
      "Cbc0038I Pass  40: suminf.    1.10464 (5) obj. 56440 iterations 26\n",
      "Cbc0038I No solution found this major pass\n",
      "Cbc0038I Before mini branch and bound, 11 integers at bound fixed and 243 continuous\n",
      "Cbc0038I Full problem 260 rows 382 columns, reduced to 21 rows 21 columns\n",
      "Cbc0038I Mini branch and bound did not improve solution (0.05 seconds)\n",
      "Cbc0038I After 0.05 seconds - Feasibility pump exiting with objective of 58700 - took 0.04 seconds\n",
      "Cbc0012I Integer solution of 58700 found by feasibility pump after 0 iterations and 0 nodes (0.05 seconds)\n",
      "Cbc0038I Full problem 260 rows 382 columns, reduced to 143 rows 260 columns - 5 fixed gives 128, 245 - still too large\n",
      "Cbc0038I Full problem 260 rows 382 columns, reduced to 128 rows 245 columns - too large\n",
      "Cbc0031I 3 added rows had average density of 8\n",
      "Cbc0013I At root node, 16 cuts changed objective from 47400 to 58700 in 3 passes\n",
      "Cbc0014I Cut generator 0 (Probing) - 28 row cuts average 4.4 elements, 3 column cuts (3 active)  in 0.001 seconds - new frequency is 1\n",
      "Cbc0014I Cut generator 1 (Gomory) - 6 row cuts average 9.8 elements, 0 column cuts (0 active)  in 0.000 seconds - new frequency is 1\n",
      "Cbc0014I Cut generator 2 (Knapsack) - 3 row cuts average 2.3 elements, 0 column cuts (0 active)  in 0.001 seconds - new frequency is 1\n",
      "Cbc0014I Cut generator 3 (Clique) - 0 row cuts average 0.0 elements, 0 column cuts (0 active)  in 0.000 seconds - new frequency is -100\n",
      "Cbc0014I Cut generator 4 (MixedIntegerRounding2) - 5 row cuts average 5.4 elements, 0 column cuts (0 active)  in 0.000 seconds - new frequency is 1\n",
      "Cbc0014I Cut generator 5 (FlowCover) - 0 row cuts average 0.0 elements, 0 column cuts (0 active)  in 0.001 seconds - new frequency is -100\n",
      "Cbc0014I Cut generator 6 (TwoMirCuts) - 9 row cuts average 6.0 elements, 0 column cuts (0 active)  in 0.001 seconds - new frequency is 1\n",
      "Cbc0001I Search completed - best objective 58700, took 22 iterations and 0 nodes (0.07 seconds)\n",
      "Cbc0035I Maximum depth 0, 15 variables fixed on reduced cost\n",
      "Cuts at root node changed objective from 47400 to 58700\n",
      "Probing was tried 3 times and created 31 cuts of which 0 were active after adding rounds of cuts (0.001 seconds)\n",
      "Gomory was tried 3 times and created 6 cuts of which 0 were active after adding rounds of cuts (0.000 seconds)\n",
      "Knapsack was tried 3 times and created 3 cuts of which 0 were active after adding rounds of cuts (0.001 seconds)\n",
      "Clique was tried 3 times and created 0 cuts of which 0 were active after adding rounds of cuts (0.000 seconds)\n",
      "MixedIntegerRounding2 was tried 3 times and created 5 cuts of which 0 were active after adding rounds of cuts (0.000 seconds)\n",
      "FlowCover was tried 3 times and created 0 cuts of which 0 were active after adding rounds of cuts (0.001 seconds)\n",
      "TwoMirCuts was tried 3 times and created 9 cuts of which 0 were active after adding rounds of cuts (0.001 seconds)\n",
      "\n",
      "Result - Optimal solution found\n",
      "\n",
      "Objective value:                58700.00000000\n",
      "Enumerated nodes:               0\n",
      "Total iterations:               22\n",
      "Time (CPU seconds):             0.08\n",
      "Time (Wallclock seconds):       0.08\n",
      "\n",
      "Total time (CPU seconds):       0.09   (Wallclock seconds):       0.10\n",
      "\n"
     ]
    }
   ],
   "source": [
    "model.solve(solver='cbc', verbose=True)"
   ]
  },
  {
   "cell_type": "markdown",
   "metadata": {
    "deletable": true,
    "editable": true
   },
   "source": [
    "### Input data"
   ]
  },
  {
   "cell_type": "code",
   "execution_count": 41,
   "metadata": {
    "collapsed": true,
    "deletable": true,
    "editable": true
   },
   "outputs": [],
   "source": [
    "import pandas as pd"
   ]
  },
  {
   "cell_type": "code",
   "execution_count": 42,
   "metadata": {
    "collapsed": false,
    "deletable": true,
    "editable": true
   },
   "outputs": [
    {
     "data": {
      "text/html": [
       "<div>\n",
       "<table border=\"1\" class=\"dataframe\">\n",
       "  <thead>\n",
       "    <tr style=\"text-align: right;\">\n",
       "      <th></th>\n",
       "      <th>PMAX</th>\n",
       "    </tr>\n",
       "  </thead>\n",
       "  <tbody>\n",
       "    <tr>\n",
       "      <th>GenCo0</th>\n",
       "      <td>200</td>\n",
       "    </tr>\n",
       "    <tr>\n",
       "      <th>GenCo1</th>\n",
       "      <td>500</td>\n",
       "    </tr>\n",
       "  </tbody>\n",
       "</table>\n",
       "</div>"
      ],
      "text/plain": [
       "        PMAX\n",
       "GenCo0   200\n",
       "GenCo1   500"
      ]
     },
     "execution_count": 42,
     "metadata": {},
     "output_type": "execute_result"
    }
   ],
   "source": [
    "pd.DataFrame(case.gen['PMAX'])"
   ]
  },
  {
   "cell_type": "code",
   "execution_count": 43,
   "metadata": {
    "collapsed": false,
    "deletable": true,
    "editable": true
   },
   "outputs": [
    {
     "data": {
      "text/html": [
       "<div>\n",
       "<table border=\"1\" class=\"dataframe\">\n",
       "  <thead>\n",
       "    <tr style=\"text-align: right;\">\n",
       "      <th></th>\n",
       "      <th>Bus1</th>\n",
       "      <th>Bus2</th>\n",
       "    </tr>\n",
       "  </thead>\n",
       "  <tbody>\n",
       "    <tr>\n",
       "      <th>0</th>\n",
       "      <td>0.0</td>\n",
       "      <td>100.0</td>\n",
       "    </tr>\n",
       "    <tr>\n",
       "      <th>1</th>\n",
       "      <td>0.0</td>\n",
       "      <td>100.0</td>\n",
       "    </tr>\n",
       "    <tr>\n",
       "      <th>2</th>\n",
       "      <td>0.0</td>\n",
       "      <td>100.0</td>\n",
       "    </tr>\n",
       "    <tr>\n",
       "      <th>3</th>\n",
       "      <td>0.0</td>\n",
       "      <td>120.0</td>\n",
       "    </tr>\n",
       "    <tr>\n",
       "      <th>4</th>\n",
       "      <td>0.0</td>\n",
       "      <td>120.0</td>\n",
       "    </tr>\n",
       "    <tr>\n",
       "      <th>5</th>\n",
       "      <td>0.0</td>\n",
       "      <td>120.0</td>\n",
       "    </tr>\n",
       "    <tr>\n",
       "      <th>6</th>\n",
       "      <td>0.0</td>\n",
       "      <td>150.0</td>\n",
       "    </tr>\n",
       "    <tr>\n",
       "      <th>7</th>\n",
       "      <td>0.0</td>\n",
       "      <td>150.0</td>\n",
       "    </tr>\n",
       "    <tr>\n",
       "      <th>8</th>\n",
       "      <td>0.0</td>\n",
       "      <td>150.0</td>\n",
       "    </tr>\n",
       "    <tr>\n",
       "      <th>9</th>\n",
       "      <td>0.0</td>\n",
       "      <td>200.0</td>\n",
       "    </tr>\n",
       "    <tr>\n",
       "      <th>10</th>\n",
       "      <td>0.0</td>\n",
       "      <td>200.0</td>\n",
       "    </tr>\n",
       "    <tr>\n",
       "      <th>11</th>\n",
       "      <td>0.0</td>\n",
       "      <td>200.0</td>\n",
       "    </tr>\n",
       "    <tr>\n",
       "      <th>12</th>\n",
       "      <td>0.0</td>\n",
       "      <td>300.0</td>\n",
       "    </tr>\n",
       "    <tr>\n",
       "      <th>13</th>\n",
       "      <td>0.0</td>\n",
       "      <td>400.0</td>\n",
       "    </tr>\n",
       "    <tr>\n",
       "      <th>14</th>\n",
       "      <td>0.0</td>\n",
       "      <td>300.0</td>\n",
       "    </tr>\n",
       "    <tr>\n",
       "      <th>15</th>\n",
       "      <td>0.0</td>\n",
       "      <td>200.0</td>\n",
       "    </tr>\n",
       "    <tr>\n",
       "      <th>16</th>\n",
       "      <td>0.0</td>\n",
       "      <td>200.0</td>\n",
       "    </tr>\n",
       "    <tr>\n",
       "      <th>17</th>\n",
       "      <td>0.0</td>\n",
       "      <td>200.0</td>\n",
       "    </tr>\n",
       "    <tr>\n",
       "      <th>18</th>\n",
       "      <td>0.0</td>\n",
       "      <td>150.0</td>\n",
       "    </tr>\n",
       "    <tr>\n",
       "      <th>19</th>\n",
       "      <td>0.0</td>\n",
       "      <td>150.0</td>\n",
       "    </tr>\n",
       "    <tr>\n",
       "      <th>20</th>\n",
       "      <td>0.0</td>\n",
       "      <td>150.0</td>\n",
       "    </tr>\n",
       "    <tr>\n",
       "      <th>21</th>\n",
       "      <td>0.0</td>\n",
       "      <td>150.0</td>\n",
       "    </tr>\n",
       "    <tr>\n",
       "      <th>22</th>\n",
       "      <td>0.0</td>\n",
       "      <td>100.0</td>\n",
       "    </tr>\n",
       "    <tr>\n",
       "      <th>23</th>\n",
       "      <td>0.0</td>\n",
       "      <td>100.0</td>\n",
       "    </tr>\n",
       "  </tbody>\n",
       "</table>\n",
       "</div>"
      ],
      "text/plain": [
       "    Bus1   Bus2\n",
       "0    0.0  100.0\n",
       "1    0.0  100.0\n",
       "2    0.0  100.0\n",
       "3    0.0  120.0\n",
       "4    0.0  120.0\n",
       "5    0.0  120.0\n",
       "6    0.0  150.0\n",
       "7    0.0  150.0\n",
       "8    0.0  150.0\n",
       "9    0.0  200.0\n",
       "10   0.0  200.0\n",
       "11   0.0  200.0\n",
       "12   0.0  300.0\n",
       "13   0.0  400.0\n",
       "14   0.0  300.0\n",
       "15   0.0  200.0\n",
       "16   0.0  200.0\n",
       "17   0.0  200.0\n",
       "18   0.0  150.0\n",
       "19   0.0  150.0\n",
       "20   0.0  150.0\n",
       "21   0.0  150.0\n",
       "22   0.0  100.0\n",
       "23   0.0  100.0"
      ]
     },
     "execution_count": 43,
     "metadata": {},
     "output_type": "execute_result"
    }
   ],
   "source": [
    "case.load"
   ]
  },
  {
   "cell_type": "markdown",
   "metadata": {
    "deletable": true,
    "editable": true
   },
   "source": [
    "### Model Results"
   ]
  },
  {
   "cell_type": "code",
   "execution_count": 44,
   "metadata": {
    "collapsed": false,
    "deletable": true,
    "editable": true
   },
   "outputs": [
    {
     "data": {
      "text/html": [
       "<div>\n",
       "<table border=\"1\" class=\"dataframe\">\n",
       "  <thead>\n",
       "    <tr style=\"text-align: right;\">\n",
       "      <th></th>\n",
       "      <th>GenCo0</th>\n",
       "      <th>GenCo1</th>\n",
       "    </tr>\n",
       "  </thead>\n",
       "  <tbody>\n",
       "    <tr>\n",
       "      <th>0</th>\n",
       "      <td>1</td>\n",
       "      <td>0</td>\n",
       "    </tr>\n",
       "    <tr>\n",
       "      <th>1</th>\n",
       "      <td>1</td>\n",
       "      <td>0</td>\n",
       "    </tr>\n",
       "    <tr>\n",
       "      <th>2</th>\n",
       "      <td>1</td>\n",
       "      <td>0</td>\n",
       "    </tr>\n",
       "    <tr>\n",
       "      <th>3</th>\n",
       "      <td>1</td>\n",
       "      <td>0</td>\n",
       "    </tr>\n",
       "    <tr>\n",
       "      <th>4</th>\n",
       "      <td>1</td>\n",
       "      <td>0</td>\n",
       "    </tr>\n",
       "    <tr>\n",
       "      <th>5</th>\n",
       "      <td>1</td>\n",
       "      <td>0</td>\n",
       "    </tr>\n",
       "    <tr>\n",
       "      <th>6</th>\n",
       "      <td>1</td>\n",
       "      <td>0</td>\n",
       "    </tr>\n",
       "    <tr>\n",
       "      <th>7</th>\n",
       "      <td>1</td>\n",
       "      <td>0</td>\n",
       "    </tr>\n",
       "    <tr>\n",
       "      <th>8</th>\n",
       "      <td>1</td>\n",
       "      <td>0</td>\n",
       "    </tr>\n",
       "    <tr>\n",
       "      <th>9</th>\n",
       "      <td>1</td>\n",
       "      <td>0</td>\n",
       "    </tr>\n",
       "    <tr>\n",
       "      <th>10</th>\n",
       "      <td>1</td>\n",
       "      <td>0</td>\n",
       "    </tr>\n",
       "    <tr>\n",
       "      <th>11</th>\n",
       "      <td>1</td>\n",
       "      <td>1</td>\n",
       "    </tr>\n",
       "    <tr>\n",
       "      <th>12</th>\n",
       "      <td>1</td>\n",
       "      <td>1</td>\n",
       "    </tr>\n",
       "    <tr>\n",
       "      <th>13</th>\n",
       "      <td>1</td>\n",
       "      <td>1</td>\n",
       "    </tr>\n",
       "    <tr>\n",
       "      <th>14</th>\n",
       "      <td>1</td>\n",
       "      <td>1</td>\n",
       "    </tr>\n",
       "    <tr>\n",
       "      <th>15</th>\n",
       "      <td>1</td>\n",
       "      <td>1</td>\n",
       "    </tr>\n",
       "    <tr>\n",
       "      <th>16</th>\n",
       "      <td>1</td>\n",
       "      <td>0</td>\n",
       "    </tr>\n",
       "    <tr>\n",
       "      <th>17</th>\n",
       "      <td>1</td>\n",
       "      <td>0</td>\n",
       "    </tr>\n",
       "    <tr>\n",
       "      <th>18</th>\n",
       "      <td>1</td>\n",
       "      <td>0</td>\n",
       "    </tr>\n",
       "    <tr>\n",
       "      <th>19</th>\n",
       "      <td>1</td>\n",
       "      <td>0</td>\n",
       "    </tr>\n",
       "    <tr>\n",
       "      <th>20</th>\n",
       "      <td>1</td>\n",
       "      <td>0</td>\n",
       "    </tr>\n",
       "    <tr>\n",
       "      <th>21</th>\n",
       "      <td>1</td>\n",
       "      <td>0</td>\n",
       "    </tr>\n",
       "    <tr>\n",
       "      <th>22</th>\n",
       "      <td>1</td>\n",
       "      <td>0</td>\n",
       "    </tr>\n",
       "    <tr>\n",
       "      <th>23</th>\n",
       "      <td>1</td>\n",
       "      <td>0</td>\n",
       "    </tr>\n",
       "  </tbody>\n",
       "</table>\n",
       "</div>"
      ],
      "text/plain": [
       "    GenCo0  GenCo1\n",
       "0        1       0\n",
       "1        1       0\n",
       "2        1       0\n",
       "3        1       0\n",
       "4        1       0\n",
       "5        1       0\n",
       "6        1       0\n",
       "7        1       0\n",
       "8        1       0\n",
       "9        1       0\n",
       "10       1       0\n",
       "11       1       1\n",
       "12       1       1\n",
       "13       1       1\n",
       "14       1       1\n",
       "15       1       1\n",
       "16       1       0\n",
       "17       1       0\n",
       "18       1       0\n",
       "19       1       0\n",
       "20       1       0\n",
       "21       1       0\n",
       "22       1       0\n",
       "23       1       0"
      ]
     },
     "execution_count": 44,
     "metadata": {},
     "output_type": "execute_result"
    }
   ],
   "source": [
    "model.results.unit_commitment"
   ]
  },
  {
   "cell_type": "code",
   "execution_count": 45,
   "metadata": {
    "collapsed": false,
    "deletable": true,
    "editable": true
   },
   "outputs": [
    {
     "data": {
      "text/html": [
       "<div>\n",
       "<table border=\"1\" class=\"dataframe\">\n",
       "  <thead>\n",
       "    <tr style=\"text-align: right;\">\n",
       "      <th></th>\n",
       "      <th>GenCo0</th>\n",
       "      <th>GenCo1</th>\n",
       "    </tr>\n",
       "  </thead>\n",
       "  <tbody>\n",
       "    <tr>\n",
       "      <th>0</th>\n",
       "      <td>100</td>\n",
       "      <td>0</td>\n",
       "    </tr>\n",
       "    <tr>\n",
       "      <th>1</th>\n",
       "      <td>100</td>\n",
       "      <td>0</td>\n",
       "    </tr>\n",
       "    <tr>\n",
       "      <th>2</th>\n",
       "      <td>100</td>\n",
       "      <td>0</td>\n",
       "    </tr>\n",
       "    <tr>\n",
       "      <th>3</th>\n",
       "      <td>120</td>\n",
       "      <td>0</td>\n",
       "    </tr>\n",
       "    <tr>\n",
       "      <th>4</th>\n",
       "      <td>120</td>\n",
       "      <td>0</td>\n",
       "    </tr>\n",
       "    <tr>\n",
       "      <th>5</th>\n",
       "      <td>120</td>\n",
       "      <td>0</td>\n",
       "    </tr>\n",
       "    <tr>\n",
       "      <th>6</th>\n",
       "      <td>150</td>\n",
       "      <td>0</td>\n",
       "    </tr>\n",
       "    <tr>\n",
       "      <th>7</th>\n",
       "      <td>150</td>\n",
       "      <td>0</td>\n",
       "    </tr>\n",
       "    <tr>\n",
       "      <th>8</th>\n",
       "      <td>150</td>\n",
       "      <td>0</td>\n",
       "    </tr>\n",
       "    <tr>\n",
       "      <th>9</th>\n",
       "      <td>200</td>\n",
       "      <td>0</td>\n",
       "    </tr>\n",
       "    <tr>\n",
       "      <th>10</th>\n",
       "      <td>200</td>\n",
       "      <td>0</td>\n",
       "    </tr>\n",
       "    <tr>\n",
       "      <th>11</th>\n",
       "      <td>200</td>\n",
       "      <td>0</td>\n",
       "    </tr>\n",
       "    <tr>\n",
       "      <th>12</th>\n",
       "      <td>200</td>\n",
       "      <td>100</td>\n",
       "    </tr>\n",
       "    <tr>\n",
       "      <th>13</th>\n",
       "      <td>200</td>\n",
       "      <td>200</td>\n",
       "    </tr>\n",
       "    <tr>\n",
       "      <th>14</th>\n",
       "      <td>200</td>\n",
       "      <td>100</td>\n",
       "    </tr>\n",
       "    <tr>\n",
       "      <th>15</th>\n",
       "      <td>200</td>\n",
       "      <td>0</td>\n",
       "    </tr>\n",
       "    <tr>\n",
       "      <th>16</th>\n",
       "      <td>200</td>\n",
       "      <td>0</td>\n",
       "    </tr>\n",
       "    <tr>\n",
       "      <th>17</th>\n",
       "      <td>200</td>\n",
       "      <td>0</td>\n",
       "    </tr>\n",
       "    <tr>\n",
       "      <th>18</th>\n",
       "      <td>150</td>\n",
       "      <td>0</td>\n",
       "    </tr>\n",
       "    <tr>\n",
       "      <th>19</th>\n",
       "      <td>150</td>\n",
       "      <td>0</td>\n",
       "    </tr>\n",
       "    <tr>\n",
       "      <th>20</th>\n",
       "      <td>150</td>\n",
       "      <td>0</td>\n",
       "    </tr>\n",
       "    <tr>\n",
       "      <th>21</th>\n",
       "      <td>150</td>\n",
       "      <td>0</td>\n",
       "    </tr>\n",
       "    <tr>\n",
       "      <th>22</th>\n",
       "      <td>100</td>\n",
       "      <td>0</td>\n",
       "    </tr>\n",
       "    <tr>\n",
       "      <th>23</th>\n",
       "      <td>100</td>\n",
       "      <td>0</td>\n",
       "    </tr>\n",
       "  </tbody>\n",
       "</table>\n",
       "</div>"
      ],
      "text/plain": [
       "    GenCo0  GenCo1\n",
       "0      100       0\n",
       "1      100       0\n",
       "2      100       0\n",
       "3      120       0\n",
       "4      120       0\n",
       "5      120       0\n",
       "6      150       0\n",
       "7      150       0\n",
       "8      150       0\n",
       "9      200       0\n",
       "10     200       0\n",
       "11     200       0\n",
       "12     200     100\n",
       "13     200     200\n",
       "14     200     100\n",
       "15     200       0\n",
       "16     200       0\n",
       "17     200       0\n",
       "18     150       0\n",
       "19     150       0\n",
       "20     150       0\n",
       "21     150       0\n",
       "22     100       0\n",
       "23     100       0"
      ]
     },
     "execution_count": 45,
     "metadata": {},
     "output_type": "execute_result"
    }
   ],
   "source": [
    "model.results.power_generated"
   ]
  },
  {
   "cell_type": "code",
   "execution_count": 46,
   "metadata": {
    "collapsed": false,
    "deletable": true,
    "editable": true,
    "scrolled": true
   },
   "outputs": [
    {
     "data": {
      "text/plain": [
       "6000"
      ]
     },
     "execution_count": 46,
     "metadata": {},
     "output_type": "execute_result"
    }
   ],
   "source": [
    "model.results.commitment_cost"
   ]
  },
  {
   "cell_type": "code",
   "execution_count": 47,
   "metadata": {
    "collapsed": false,
    "deletable": true,
    "editable": true
   },
   "outputs": [
    {
     "data": {
      "text/plain": [
       "42700"
      ]
     },
     "execution_count": 47,
     "metadata": {},
     "output_type": "execute_result"
    }
   ],
   "source": [
    "model.results.production_cost"
   ]
  },
  {
   "cell_type": "code",
   "execution_count": 48,
   "metadata": {
    "collapsed": false,
    "deletable": true,
    "editable": true
   },
   "outputs": [
    {
     "data": {
      "text/plain": [
       "10000.0"
      ]
     },
     "execution_count": 48,
     "metadata": {},
     "output_type": "execute_result"
    }
   ],
   "source": [
    "model.results.noload_cost"
   ]
  },
  {
   "cell_type": "code",
   "execution_count": 49,
   "metadata": {
    "collapsed": false,
    "deletable": true,
    "editable": true
   },
   "outputs": [
    {
     "data": {
      "text/html": [
       "<div>\n",
       "<table border=\"1\" class=\"dataframe\">\n",
       "  <thead>\n",
       "    <tr style=\"text-align: right;\">\n",
       "      <th></th>\n",
       "      <th>0</th>\n",
       "    </tr>\n",
       "  </thead>\n",
       "  <tbody>\n",
       "    <tr>\n",
       "      <th>0</th>\n",
       "      <td>100</td>\n",
       "    </tr>\n",
       "    <tr>\n",
       "      <th>1</th>\n",
       "      <td>100</td>\n",
       "    </tr>\n",
       "    <tr>\n",
       "      <th>2</th>\n",
       "      <td>100</td>\n",
       "    </tr>\n",
       "    <tr>\n",
       "      <th>3</th>\n",
       "      <td>120</td>\n",
       "    </tr>\n",
       "    <tr>\n",
       "      <th>4</th>\n",
       "      <td>120</td>\n",
       "    </tr>\n",
       "    <tr>\n",
       "      <th>5</th>\n",
       "      <td>120</td>\n",
       "    </tr>\n",
       "    <tr>\n",
       "      <th>6</th>\n",
       "      <td>150</td>\n",
       "    </tr>\n",
       "    <tr>\n",
       "      <th>7</th>\n",
       "      <td>150</td>\n",
       "    </tr>\n",
       "    <tr>\n",
       "      <th>8</th>\n",
       "      <td>150</td>\n",
       "    </tr>\n",
       "    <tr>\n",
       "      <th>9</th>\n",
       "      <td>200</td>\n",
       "    </tr>\n",
       "    <tr>\n",
       "      <th>10</th>\n",
       "      <td>200</td>\n",
       "    </tr>\n",
       "    <tr>\n",
       "      <th>11</th>\n",
       "      <td>200</td>\n",
       "    </tr>\n",
       "    <tr>\n",
       "      <th>12</th>\n",
       "      <td>200</td>\n",
       "    </tr>\n",
       "    <tr>\n",
       "      <th>13</th>\n",
       "      <td>200</td>\n",
       "    </tr>\n",
       "    <tr>\n",
       "      <th>14</th>\n",
       "      <td>200</td>\n",
       "    </tr>\n",
       "    <tr>\n",
       "      <th>15</th>\n",
       "      <td>200</td>\n",
       "    </tr>\n",
       "    <tr>\n",
       "      <th>16</th>\n",
       "      <td>200</td>\n",
       "    </tr>\n",
       "    <tr>\n",
       "      <th>17</th>\n",
       "      <td>200</td>\n",
       "    </tr>\n",
       "    <tr>\n",
       "      <th>18</th>\n",
       "      <td>150</td>\n",
       "    </tr>\n",
       "    <tr>\n",
       "      <th>19</th>\n",
       "      <td>150</td>\n",
       "    </tr>\n",
       "    <tr>\n",
       "      <th>20</th>\n",
       "      <td>150</td>\n",
       "    </tr>\n",
       "    <tr>\n",
       "      <th>21</th>\n",
       "      <td>150</td>\n",
       "    </tr>\n",
       "    <tr>\n",
       "      <th>22</th>\n",
       "      <td>100</td>\n",
       "    </tr>\n",
       "    <tr>\n",
       "      <th>23</th>\n",
       "      <td>100</td>\n",
       "    </tr>\n",
       "  </tbody>\n",
       "</table>\n",
       "</div>"
      ],
      "text/plain": [
       "      0\n",
       "0   100\n",
       "1   100\n",
       "2   100\n",
       "3   120\n",
       "4   120\n",
       "5   120\n",
       "6   150\n",
       "7   150\n",
       "8   150\n",
       "9   200\n",
       "10  200\n",
       "11  200\n",
       "12  200\n",
       "13  200\n",
       "14  200\n",
       "15  200\n",
       "16  200\n",
       "17  200\n",
       "18  150\n",
       "19  150\n",
       "20  150\n",
       "21  150\n",
       "22  100\n",
       "23  100"
      ]
     },
     "execution_count": 49,
     "metadata": {},
     "output_type": "execute_result"
    }
   ],
   "source": [
    "model.results.line_power"
   ]
  },
  {
   "cell_type": "code",
   "execution_count": 51,
   "metadata": {
    "collapsed": true,
    "deletable": true,
    "editable": true
   },
   "outputs": [],
   "source": [
    "from psst.plot import line_power, stacked_power_generation"
   ]
  },
  {
   "cell_type": "code",
   "execution_count": 52,
   "metadata": {
    "collapsed": false,
    "deletable": true,
    "editable": true
   },
   "outputs": [
    {
     "data": {
      "image/png": "[encoded data removed]",
      "text/plain": [
       "<matplotlib.figure.Figure at 0x11188dd90>"
      ]
     },
     "metadata": {},
     "output_type": "display_data"
    }
   ],
   "source": [
    "stacked_power_generation(model.results, legend=True)"
   ]
  },
  {
   "cell_type": "code",
   "execution_count": null,
   "metadata": {
    "collapsed": true,
    "deletable": true,
    "editable": true
   },
   "outputs": [],
   "source": []
  },
  {
   "cell_type": "code",
   "execution_count": null,
   "metadata": {
    "collapsed": true,
    "deletable": true,
    "editable": true
   },
   "outputs": [],
   "source": []
  },
  {
   "cell_type": "code",
   "execution_count": null,
   "metadata": {
    "collapsed": true,
    "deletable": true,
    "editable": true
   },
   "outputs": [],
   "source": []
  }
 ],
 "metadata": {
  "kernelspec": {
   "display_name": "Python 2",
   "language": "python",
   "name": "python2"
  },
  "language_info": {
   "codemirror_mode": {
    "name": "ipython",
    "version": 2
   },
   "file_extension": ".py",
   "mimetype": "text/x-python",
   "name": "python",
   "nbconvert_exporter": "python",
   "pygments_lexer": "ipython2",
   "version": "2.7.12"
  }
 },
 "nbformat": 4,
 "nbformat_minor": 2
}
